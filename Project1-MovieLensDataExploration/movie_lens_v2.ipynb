{
 "cells": [
  {
   "cell_type": "code",
   "execution_count": 2,
   "metadata": {
    "collapsed": true,
    "pycharm": {
     "is_executing": false
    }
   },
   "outputs": [
    {
     "data": {
      "text/plain": "<IPython.core.display.HTML object>",
      "text/html": "<style>.container { width:95% !important; }</style>"
     },
     "metadata": {},
     "output_type": "display_data"
    }
   ],
   "source": [
    "\n",
    "import pandas as pd\n",
    "import seaborn as sns\n",
    "import numpy as np\n",
    "import matplotlib.dates as mdates\n",
    "from matplotlib import pyplot as plt\n",
    "from uszipcode import SearchEngine\n",
    "from IPython.core.display import HTML, display\n",
    "from matplotlib import cm\n",
    "import matplotlib.dates as mdates\n",
    "from datetime import datetime\n",
    "%matplotlib inline\n",
    "plt.style.use('ggplot')\n",
    "pd.set_option('display.max_columns', 500)\n",
    "pd.options.display.float_format = '{:,.2f}'.format\n",
    "display(HTML(\"<style>.container { width:95% !important; }</style>\"))"
   ]
  },
  {
   "cell_type": "code",
   "execution_count": 3,
   "outputs": [],
   "source": [
    "ratings = pd.read_csv('ml-100k/u.data', header=None, sep='\\t', encoding='latin-1', names=[\"user_id\", \"movie_id\", \"rating\", \"timestamp\"])\n",
    "movies = pd.read_csv('ml-100k/u.item', header=None, sep='|', encoding='latin-1', names=[\"movie_id\",\"title\",\"release_date\",\"video_release_date\",\"imdb_url\",\"unknown\",\"action\",\"adventure\",\"animation\",\"children\",\"comedy\",\"crime\",\"documentary\",\"drama\",\"fantasy\",\"film-noir\",\"horror\",\"musical\",\"mystery\",\"romance\",\"sci-fi\",\"thriller\",\"war\",\"western\"])\n",
    "users = pd.read_csv('ml-100k/u.user', header=None, sep='|', encoding='latin-1', names=[\"user_id\", \"age\", \"gender\",\"occupation\",\"zip_code\"])"
   ],
   "metadata": {
    "collapsed": false,
    "pycharm": {
     "name": "#%%\n",
     "is_executing": false
    }
   }
  },
  {
   "cell_type": "code",
   "execution_count": 4,
   "outputs": [
    {
     "data": {
      "text/plain": "   user_id  movie_id  rating  timestamp        timestamp_dt\n0      196       242       3  881250949 1997-12-04 15:55:49\n1      186       302       3  891717742 1998-04-04 19:22:22\n2       22       377       1  878887116 1997-11-07 07:18:36\n3      244        51       2  880606923 1997-11-27 05:02:03\n4      166       346       1  886397596 1998-02-02 05:33:16",
      "text/html": "<div>\n<style scoped>\n    .dataframe tbody tr th:only-of-type {\n        vertical-align: middle;\n    }\n\n    .dataframe tbody tr th {\n        vertical-align: top;\n    }\n\n    .dataframe thead th {\n        text-align: right;\n    }\n</style>\n<table border=\"1\" class=\"dataframe\">\n  <thead>\n    <tr style=\"text-align: right;\">\n      <th></th>\n      <th>user_id</th>\n      <th>movie_id</th>\n      <th>rating</th>\n      <th>timestamp</th>\n      <th>timestamp_dt</th>\n    </tr>\n  </thead>\n  <tbody>\n    <tr>\n      <th>0</th>\n      <td>196</td>\n      <td>242</td>\n      <td>3</td>\n      <td>881250949</td>\n      <td>1997-12-04 15:55:49</td>\n    </tr>\n    <tr>\n      <th>1</th>\n      <td>186</td>\n      <td>302</td>\n      <td>3</td>\n      <td>891717742</td>\n      <td>1998-04-04 19:22:22</td>\n    </tr>\n    <tr>\n      <th>2</th>\n      <td>22</td>\n      <td>377</td>\n      <td>1</td>\n      <td>878887116</td>\n      <td>1997-11-07 07:18:36</td>\n    </tr>\n    <tr>\n      <th>3</th>\n      <td>244</td>\n      <td>51</td>\n      <td>2</td>\n      <td>880606923</td>\n      <td>1997-11-27 05:02:03</td>\n    </tr>\n    <tr>\n      <th>4</th>\n      <td>166</td>\n      <td>346</td>\n      <td>1</td>\n      <td>886397596</td>\n      <td>1998-02-02 05:33:16</td>\n    </tr>\n  </tbody>\n</table>\n</div>"
     },
     "metadata": {},
     "output_type": "execute_result",
     "execution_count": 4
    }
   ],
   "source": [
    "ratings.head()\n",
    "ratings['timestamp_dt'] = pd.to_datetime(ratings['timestamp'], unit='s')\n",
    "ratings.head()"
   ],
   "metadata": {
    "collapsed": false,
    "pycharm": {
     "name": "#%%\n",
     "is_executing": false
    }
   }
  },
  {
   "cell_type": "code",
   "execution_count": 5,
   "outputs": [
    {
     "name": "stdout",
     "text": [
      "<class 'pandas.core.frame.DataFrame'>\nRangeIndex: 1682 entries, 0 to 1681\nData columns (total 24 columns):\nmovie_id              1682 non-null int64\ntitle                 1682 non-null object\nrelease_date          1681 non-null object\nvideo_release_date    0 non-null float64\nimdb_url              1679 non-null object\nunknown               1682 non-null int64\naction                1682 non-null int64\nadventure             1682 non-null int64\nanimation             1682 non-null int64\nchildren              1682 non-null int64\ncomedy                1682 non-null int64\ncrime                 1682 non-null int64\ndocumentary           1682 non-null int64\ndrama                 1682 non-null int64\nfantasy               1682 non-null int64\nfilm-noir             1682 non-null int64\nhorror                1682 non-null int64\nmusical               1682 non-null int64\nmystery               1682 non-null int64\nromance               1682 non-null int64\nsci-fi                1682 non-null int64\nthriller              1682 non-null int64\nwar                   1682 non-null int64\nwestern               1682 non-null int64\ndtypes: float64(1), int64(20), object(3)\nmemory usage: 315.5+ KB\n"
     ],
     "output_type": "stream"
    },
    {
     "data": {
      "text/plain": "   movie_id              title release_date  unknown  action  adventure  \\\n0         1   Toy Story (1995)  01-Jan-1995        0       0          0   \n1         2   GoldenEye (1995)  01-Jan-1995        0       1          1   \n2         3  Four Rooms (1995)  01-Jan-1995        0       0          0   \n3         4  Get Shorty (1995)  01-Jan-1995        0       1          0   \n4         5     Copycat (1995)  01-Jan-1995        0       0          0   \n\n   animation  children  comedy  crime  documentary  drama  fantasy  film-noir  \\\n0          1         1       1      0            0      0        0          0   \n1          0         0       0      0            0      0        0          0   \n2          0         0       0      0            0      0        0          0   \n3          0         0       1      0            0      1        0          0   \n4          0         0       0      1            0      1        0          0   \n\n   horror  musical  mystery  romance  sci-fi  thriller  war  western  \n0       0        0        0        0       0         0    0        0  \n1       0        0        0        0       0         1    0        0  \n2       0        0        0        0       0         1    0        0  \n3       0        0        0        0       0         0    0        0  \n4       0        0        0        0       0         1    0        0  ",
      "text/html": "<div>\n<style scoped>\n    .dataframe tbody tr th:only-of-type {\n        vertical-align: middle;\n    }\n\n    .dataframe tbody tr th {\n        vertical-align: top;\n    }\n\n    .dataframe thead th {\n        text-align: right;\n    }\n</style>\n<table border=\"1\" class=\"dataframe\">\n  <thead>\n    <tr style=\"text-align: right;\">\n      <th></th>\n      <th>movie_id</th>\n      <th>title</th>\n      <th>release_date</th>\n      <th>unknown</th>\n      <th>action</th>\n      <th>adventure</th>\n      <th>animation</th>\n      <th>children</th>\n      <th>comedy</th>\n      <th>crime</th>\n      <th>documentary</th>\n      <th>drama</th>\n      <th>fantasy</th>\n      <th>film-noir</th>\n      <th>horror</th>\n      <th>musical</th>\n      <th>mystery</th>\n      <th>romance</th>\n      <th>sci-fi</th>\n      <th>thriller</th>\n      <th>war</th>\n      <th>western</th>\n    </tr>\n  </thead>\n  <tbody>\n    <tr>\n      <th>0</th>\n      <td>1</td>\n      <td>Toy Story (1995)</td>\n      <td>01-Jan-1995</td>\n      <td>0</td>\n      <td>0</td>\n      <td>0</td>\n      <td>1</td>\n      <td>1</td>\n      <td>1</td>\n      <td>0</td>\n      <td>0</td>\n      <td>0</td>\n      <td>0</td>\n      <td>0</td>\n      <td>0</td>\n      <td>0</td>\n      <td>0</td>\n      <td>0</td>\n      <td>0</td>\n      <td>0</td>\n      <td>0</td>\n      <td>0</td>\n    </tr>\n    <tr>\n      <th>1</th>\n      <td>2</td>\n      <td>GoldenEye (1995)</td>\n      <td>01-Jan-1995</td>\n      <td>0</td>\n      <td>1</td>\n      <td>1</td>\n      <td>0</td>\n      <td>0</td>\n      <td>0</td>\n      <td>0</td>\n      <td>0</td>\n      <td>0</td>\n      <td>0</td>\n      <td>0</td>\n      <td>0</td>\n      <td>0</td>\n      <td>0</td>\n      <td>0</td>\n      <td>0</td>\n      <td>1</td>\n      <td>0</td>\n      <td>0</td>\n    </tr>\n    <tr>\n      <th>2</th>\n      <td>3</td>\n      <td>Four Rooms (1995)</td>\n      <td>01-Jan-1995</td>\n      <td>0</td>\n      <td>0</td>\n      <td>0</td>\n      <td>0</td>\n      <td>0</td>\n      <td>0</td>\n      <td>0</td>\n      <td>0</td>\n      <td>0</td>\n      <td>0</td>\n      <td>0</td>\n      <td>0</td>\n      <td>0</td>\n      <td>0</td>\n      <td>0</td>\n      <td>0</td>\n      <td>1</td>\n      <td>0</td>\n      <td>0</td>\n    </tr>\n    <tr>\n      <th>3</th>\n      <td>4</td>\n      <td>Get Shorty (1995)</td>\n      <td>01-Jan-1995</td>\n      <td>0</td>\n      <td>1</td>\n      <td>0</td>\n      <td>0</td>\n      <td>0</td>\n      <td>1</td>\n      <td>0</td>\n      <td>0</td>\n      <td>1</td>\n      <td>0</td>\n      <td>0</td>\n      <td>0</td>\n      <td>0</td>\n      <td>0</td>\n      <td>0</td>\n      <td>0</td>\n      <td>0</td>\n      <td>0</td>\n      <td>0</td>\n    </tr>\n    <tr>\n      <th>4</th>\n      <td>5</td>\n      <td>Copycat (1995)</td>\n      <td>01-Jan-1995</td>\n      <td>0</td>\n      <td>0</td>\n      <td>0</td>\n      <td>0</td>\n      <td>0</td>\n      <td>0</td>\n      <td>1</td>\n      <td>0</td>\n      <td>1</td>\n      <td>0</td>\n      <td>0</td>\n      <td>0</td>\n      <td>0</td>\n      <td>0</td>\n      <td>0</td>\n      <td>0</td>\n      <td>1</td>\n      <td>0</td>\n      <td>0</td>\n    </tr>\n  </tbody>\n</table>\n</div>"
     },
     "metadata": {},
     "output_type": "execute_result",
     "execution_count": 5
    }
   ],
   "source": [
    "movies.info()\n",
    "movies.drop(columns=['video_release_date', 'imdb_url'], inplace=True)\n",
    "movies.head()"
   ],
   "metadata": {
    "collapsed": false,
    "pycharm": {
     "name": "#%%\n",
     "is_executing": false
    }
   }
  },
  {
   "cell_type": "code",
   "execution_count": 6,
   "outputs": [
    {
     "data": {
      "text/plain": "unknown          2\naction         251\nadventure      135\nanimation       42\nchildren       122\ncomedy         505\ncrime          109\ndocumentary     50\ndrama          725\nfantasy         22\nfilm-noir       24\nhorror          92\nmusical         56\nmystery         61\nromance        247\nsci-fi         101\nthriller       251\nwar             71\nwestern         27\ndtype: int64"
     },
     "metadata": {},
     "output_type": "execute_result",
     "execution_count": 6
    }
   ],
   "source": [
    "movies.iloc[:, 3:].sum()"
   ],
   "metadata": {
    "collapsed": false,
    "pycharm": {
     "name": "#%%\n",
     "is_executing": false
    }
   }
  },
  {
   "cell_type": "code",
   "execution_count": 7,
   "outputs": [
    {
     "data": {
      "text/plain": "               count   mean    std  min    25%    50%      75%      max\nmovie_id    1,682.00 841.50 485.70 1.00 421.25 841.50 1,261.75 1,682.00\nunknown     1,682.00   0.00   0.03 0.00   0.00   0.00     0.00     1.00\naction      1,682.00   0.15   0.36 0.00   0.00   0.00     0.00     1.00\nadventure   1,682.00   0.08   0.27 0.00   0.00   0.00     0.00     1.00\nanimation   1,682.00   0.02   0.16 0.00   0.00   0.00     0.00     1.00\nchildren    1,682.00   0.07   0.26 0.00   0.00   0.00     0.00     1.00\ncomedy      1,682.00   0.30   0.46 0.00   0.00   0.00     1.00     1.00\ncrime       1,682.00   0.06   0.25 0.00   0.00   0.00     0.00     1.00\ndocumentary 1,682.00   0.03   0.17 0.00   0.00   0.00     0.00     1.00\ndrama       1,682.00   0.43   0.50 0.00   0.00   0.00     1.00     1.00\nfantasy     1,682.00   0.01   0.11 0.00   0.00   0.00     0.00     1.00\nfilm-noir   1,682.00   0.01   0.12 0.00   0.00   0.00     0.00     1.00\nhorror      1,682.00   0.05   0.23 0.00   0.00   0.00     0.00     1.00\nmusical     1,682.00   0.03   0.18 0.00   0.00   0.00     0.00     1.00\nmystery     1,682.00   0.04   0.19 0.00   0.00   0.00     0.00     1.00\nromance     1,682.00   0.15   0.35 0.00   0.00   0.00     0.00     1.00\nsci-fi      1,682.00   0.06   0.24 0.00   0.00   0.00     0.00     1.00\nthriller    1,682.00   0.15   0.36 0.00   0.00   0.00     0.00     1.00\nwar         1,682.00   0.04   0.20 0.00   0.00   0.00     0.00     1.00\nwestern     1,682.00   0.02   0.13 0.00   0.00   0.00     0.00     1.00",
      "text/html": "<div>\n<style scoped>\n    .dataframe tbody tr th:only-of-type {\n        vertical-align: middle;\n    }\n\n    .dataframe tbody tr th {\n        vertical-align: top;\n    }\n\n    .dataframe thead th {\n        text-align: right;\n    }\n</style>\n<table border=\"1\" class=\"dataframe\">\n  <thead>\n    <tr style=\"text-align: right;\">\n      <th></th>\n      <th>count</th>\n      <th>mean</th>\n      <th>std</th>\n      <th>min</th>\n      <th>25%</th>\n      <th>50%</th>\n      <th>75%</th>\n      <th>max</th>\n    </tr>\n  </thead>\n  <tbody>\n    <tr>\n      <th>movie_id</th>\n      <td>1,682.00</td>\n      <td>841.50</td>\n      <td>485.70</td>\n      <td>1.00</td>\n      <td>421.25</td>\n      <td>841.50</td>\n      <td>1,261.75</td>\n      <td>1,682.00</td>\n    </tr>\n    <tr>\n      <th>unknown</th>\n      <td>1,682.00</td>\n      <td>0.00</td>\n      <td>0.03</td>\n      <td>0.00</td>\n      <td>0.00</td>\n      <td>0.00</td>\n      <td>0.00</td>\n      <td>1.00</td>\n    </tr>\n    <tr>\n      <th>action</th>\n      <td>1,682.00</td>\n      <td>0.15</td>\n      <td>0.36</td>\n      <td>0.00</td>\n      <td>0.00</td>\n      <td>0.00</td>\n      <td>0.00</td>\n      <td>1.00</td>\n    </tr>\n    <tr>\n      <th>adventure</th>\n      <td>1,682.00</td>\n      <td>0.08</td>\n      <td>0.27</td>\n      <td>0.00</td>\n      <td>0.00</td>\n      <td>0.00</td>\n      <td>0.00</td>\n      <td>1.00</td>\n    </tr>\n    <tr>\n      <th>animation</th>\n      <td>1,682.00</td>\n      <td>0.02</td>\n      <td>0.16</td>\n      <td>0.00</td>\n      <td>0.00</td>\n      <td>0.00</td>\n      <td>0.00</td>\n      <td>1.00</td>\n    </tr>\n    <tr>\n      <th>children</th>\n      <td>1,682.00</td>\n      <td>0.07</td>\n      <td>0.26</td>\n      <td>0.00</td>\n      <td>0.00</td>\n      <td>0.00</td>\n      <td>0.00</td>\n      <td>1.00</td>\n    </tr>\n    <tr>\n      <th>comedy</th>\n      <td>1,682.00</td>\n      <td>0.30</td>\n      <td>0.46</td>\n      <td>0.00</td>\n      <td>0.00</td>\n      <td>0.00</td>\n      <td>1.00</td>\n      <td>1.00</td>\n    </tr>\n    <tr>\n      <th>crime</th>\n      <td>1,682.00</td>\n      <td>0.06</td>\n      <td>0.25</td>\n      <td>0.00</td>\n      <td>0.00</td>\n      <td>0.00</td>\n      <td>0.00</td>\n      <td>1.00</td>\n    </tr>\n    <tr>\n      <th>documentary</th>\n      <td>1,682.00</td>\n      <td>0.03</td>\n      <td>0.17</td>\n      <td>0.00</td>\n      <td>0.00</td>\n      <td>0.00</td>\n      <td>0.00</td>\n      <td>1.00</td>\n    </tr>\n    <tr>\n      <th>drama</th>\n      <td>1,682.00</td>\n      <td>0.43</td>\n      <td>0.50</td>\n      <td>0.00</td>\n      <td>0.00</td>\n      <td>0.00</td>\n      <td>1.00</td>\n      <td>1.00</td>\n    </tr>\n    <tr>\n      <th>fantasy</th>\n      <td>1,682.00</td>\n      <td>0.01</td>\n      <td>0.11</td>\n      <td>0.00</td>\n      <td>0.00</td>\n      <td>0.00</td>\n      <td>0.00</td>\n      <td>1.00</td>\n    </tr>\n    <tr>\n      <th>film-noir</th>\n      <td>1,682.00</td>\n      <td>0.01</td>\n      <td>0.12</td>\n      <td>0.00</td>\n      <td>0.00</td>\n      <td>0.00</td>\n      <td>0.00</td>\n      <td>1.00</td>\n    </tr>\n    <tr>\n      <th>horror</th>\n      <td>1,682.00</td>\n      <td>0.05</td>\n      <td>0.23</td>\n      <td>0.00</td>\n      <td>0.00</td>\n      <td>0.00</td>\n      <td>0.00</td>\n      <td>1.00</td>\n    </tr>\n    <tr>\n      <th>musical</th>\n      <td>1,682.00</td>\n      <td>0.03</td>\n      <td>0.18</td>\n      <td>0.00</td>\n      <td>0.00</td>\n      <td>0.00</td>\n      <td>0.00</td>\n      <td>1.00</td>\n    </tr>\n    <tr>\n      <th>mystery</th>\n      <td>1,682.00</td>\n      <td>0.04</td>\n      <td>0.19</td>\n      <td>0.00</td>\n      <td>0.00</td>\n      <td>0.00</td>\n      <td>0.00</td>\n      <td>1.00</td>\n    </tr>\n    <tr>\n      <th>romance</th>\n      <td>1,682.00</td>\n      <td>0.15</td>\n      <td>0.35</td>\n      <td>0.00</td>\n      <td>0.00</td>\n      <td>0.00</td>\n      <td>0.00</td>\n      <td>1.00</td>\n    </tr>\n    <tr>\n      <th>sci-fi</th>\n      <td>1,682.00</td>\n      <td>0.06</td>\n      <td>0.24</td>\n      <td>0.00</td>\n      <td>0.00</td>\n      <td>0.00</td>\n      <td>0.00</td>\n      <td>1.00</td>\n    </tr>\n    <tr>\n      <th>thriller</th>\n      <td>1,682.00</td>\n      <td>0.15</td>\n      <td>0.36</td>\n      <td>0.00</td>\n      <td>0.00</td>\n      <td>0.00</td>\n      <td>0.00</td>\n      <td>1.00</td>\n    </tr>\n    <tr>\n      <th>war</th>\n      <td>1,682.00</td>\n      <td>0.04</td>\n      <td>0.20</td>\n      <td>0.00</td>\n      <td>0.00</td>\n      <td>0.00</td>\n      <td>0.00</td>\n      <td>1.00</td>\n    </tr>\n    <tr>\n      <th>western</th>\n      <td>1,682.00</td>\n      <td>0.02</td>\n      <td>0.13</td>\n      <td>0.00</td>\n      <td>0.00</td>\n      <td>0.00</td>\n      <td>0.00</td>\n      <td>1.00</td>\n    </tr>\n  </tbody>\n</table>\n</div>"
     },
     "metadata": {},
     "output_type": "execute_result",
     "execution_count": 7
    }
   ],
   "source": [
    "movies.describe().transpose()\n",
    "\n"
   ],
   "metadata": {
    "collapsed": false,
    "pycharm": {
     "name": "#%%\n",
     "is_executing": false
    }
   }
  },
  {
   "cell_type": "code",
   "execution_count": 8,
   "outputs": [],
   "source": [
    "search = SearchEngine(simple_zipcode=True)"
   ],
   "metadata": {
    "collapsed": false,
    "pycharm": {
     "name": "#%%\n",
     "is_executing": false
    }
   }
  },
  {
   "cell_type": "code",
   "execution_count": 9,
   "outputs": [],
   "source": [
    "users['lat'] = users['zip_code'].apply(lambda x: search.by_zipcode(x).lat)\n",
    "users['lon'] = users['zip_code'].apply(lambda x: search.by_zipcode(x).lng)\n",
    "users['income'] = users['zip_code'].apply(lambda x: search.by_zipcode(x).median_household_income)"
   ],
   "metadata": {
    "collapsed": false,
    "pycharm": {
     "name": "#%%\n",
     "is_executing": false
    }
   }
  },
  {
   "cell_type": "code",
   "execution_count": 10,
   "outputs": [
    {
     "data": {
      "text/plain": "   user_id  age gender  occupation zip_code   lat     lon    income\n0        1   24      M  technician    85711 32.21 -110.89 32,557.00\n1        2   53      F       other    94043 37.41 -122.09 97,552.00\n2        3   23      M      writer    32067   nan     nan       nan\n3        4   24      M  technician    43537 41.57  -83.68 60,078.00\n4        5   33      F       other    15213 40.44  -79.96 21,928.00",
      "text/html": "<div>\n<style scoped>\n    .dataframe tbody tr th:only-of-type {\n        vertical-align: middle;\n    }\n\n    .dataframe tbody tr th {\n        vertical-align: top;\n    }\n\n    .dataframe thead th {\n        text-align: right;\n    }\n</style>\n<table border=\"1\" class=\"dataframe\">\n  <thead>\n    <tr style=\"text-align: right;\">\n      <th></th>\n      <th>user_id</th>\n      <th>age</th>\n      <th>gender</th>\n      <th>occupation</th>\n      <th>zip_code</th>\n      <th>lat</th>\n      <th>lon</th>\n      <th>income</th>\n    </tr>\n  </thead>\n  <tbody>\n    <tr>\n      <th>0</th>\n      <td>1</td>\n      <td>24</td>\n      <td>M</td>\n      <td>technician</td>\n      <td>85711</td>\n      <td>32.21</td>\n      <td>-110.89</td>\n      <td>32,557.00</td>\n    </tr>\n    <tr>\n      <th>1</th>\n      <td>2</td>\n      <td>53</td>\n      <td>F</td>\n      <td>other</td>\n      <td>94043</td>\n      <td>37.41</td>\n      <td>-122.09</td>\n      <td>97,552.00</td>\n    </tr>\n    <tr>\n      <th>2</th>\n      <td>3</td>\n      <td>23</td>\n      <td>M</td>\n      <td>writer</td>\n      <td>32067</td>\n      <td>nan</td>\n      <td>nan</td>\n      <td>nan</td>\n    </tr>\n    <tr>\n      <th>3</th>\n      <td>4</td>\n      <td>24</td>\n      <td>M</td>\n      <td>technician</td>\n      <td>43537</td>\n      <td>41.57</td>\n      <td>-83.68</td>\n      <td>60,078.00</td>\n    </tr>\n    <tr>\n      <th>4</th>\n      <td>5</td>\n      <td>33</td>\n      <td>F</td>\n      <td>other</td>\n      <td>15213</td>\n      <td>40.44</td>\n      <td>-79.96</td>\n      <td>21,928.00</td>\n    </tr>\n  </tbody>\n</table>\n</div>"
     },
     "metadata": {},
     "output_type": "execute_result",
     "execution_count": 10
    }
   ],
   "source": [
    "users.head()"
   ],
   "metadata": {
    "collapsed": false,
    "pycharm": {
     "name": "#%%\n",
     "is_executing": false
    }
   }
  },
  {
   "cell_type": "code",
   "execution_count": 11,
   "outputs": [
    {
     "name": "stdout",
     "text": [
      "User Guide: https://github.com/keplergl/kepler.gl/blob/master/docs/keplergl-jupyter/user-guide.md\n"
     ],
     "output_type": "stream"
    },
    {
     "data": {
      "text/plain": "KeplerGl(data={'data':      user_id  age gender     occupation zip_code   lat     lon     income\n0          1 …",
      "application/vnd.jupyter.widget-view+json": {
       "version_major": 2,
       "version_minor": 0,
       "model_id": "6506d1c0da1744c29505885ebeacb203"
      }
     },
     "metadata": {},
     "output_type": "display_data"
    }
   ],
   "source": [
    "from keplergl import KeplerGl\n",
    "\n",
    "users_map = KeplerGl(height=800, data = {'data': users})\n",
    "users_map"
   ],
   "metadata": {
    "collapsed": false,
    "pycharm": {
     "name": "#%%\n",
     "is_executing": false
    }
   }
  }
 ],
 "metadata": {
  "kernelspec": {
   "display_name": "Python 3",
   "language": "python",
   "name": "python3"
  },
  "language_info": {
   "codemirror_mode": {
    "name": "ipython",
    "version": 2
   },
   "file_extension": ".py",
   "mimetype": "text/x-python",
   "name": "python",
   "nbconvert_exporter": "python",
   "pygments_lexer": "ipython2",
   "version": "2.7.6"
  },
  "pycharm": {
   "stem_cell": {
    "cell_type": "raw",
    "source": [],
    "metadata": {
     "collapsed": false
    }
   }
  }
 },
 "nbformat": 4,
 "nbformat_minor": 0
}